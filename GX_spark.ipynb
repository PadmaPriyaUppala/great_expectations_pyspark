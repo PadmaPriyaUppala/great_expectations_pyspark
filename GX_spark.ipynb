{
 "cells": [
  {
   "cell_type": "code",
   "execution_count": 87,
   "id": "73b616fb-39c2-402a-b86d-e76497226b08",
   "metadata": {
    "tags": []
   },
   "outputs": [],
   "source": [
    "from pyspark.sql import SparkSession\n",
    "import pandas as pd\n",
    "spark = SparkSession \\\n",
    "    .builder \\\n",
    "    .master(\"local[*]\") \\\n",
    "    .appName(\"GX_1\") \\\n",
    "    .getOrCreate()\n",
    "raw_df = spark \\\n",
    "    .read \\\n",
    "    .option(\"header\",\"true\") \\\n",
    "    .csv(\"file:///home/padmapriya/GX/Kickstarter.csv\")"
   ]
  },
  {
   "cell_type": "code",
   "execution_count": 2,
   "id": "58938638-d75f-455c-81c5-62a031c49e7c",
   "metadata": {},
   "outputs": [
    {
     "name": "stdout",
     "output_type": "stream",
     "text": [
      "root\n",
      " |-- id: string (nullable = true)\n",
      " |-- name: string (nullable = true)\n",
      " |-- currency: string (nullable = true)\n",
      " |-- main_category: string (nullable = true)\n",
      " |-- sub_category: string (nullable = true)\n",
      " |-- launched_at: string (nullable = true)\n",
      " |-- deadline: string (nullable = true)\n",
      " |-- duration: string (nullable = true)\n",
      " |-- goal_usd: string (nullable = true)\n",
      " |-- city: string (nullable = true)\n",
      " |-- state: string (nullable = true)\n",
      " |-- country: string (nullable = true)\n",
      " |-- blurb_length: string (nullable = true)\n",
      " |-- name_length: string (nullable = true)\n",
      " |-- status: string (nullable = true)\n",
      " |-- start_month: string (nullable = true)\n",
      " |-- end_month: string (nullable = true)\n",
      " |-- start_Q: string (nullable = true)\n",
      " |-- end_Q: string (nullable = true)\n",
      " |-- usd_pledged: string (nullable = true)\n",
      "\n"
     ]
    }
   ],
   "source": [
    "raw_df.printSchema()"
   ]
  },
  {
   "cell_type": "code",
   "execution_count": 3,
   "id": "70b0944d-51b6-46d9-827b-c09512fdee51",
   "metadata": {
    "tags": []
   },
   "outputs": [],
   "source": [
    "raw_df.createOrReplaceTempView(\"campaigns\")"
   ]
  },
  {
   "cell_type": "code",
   "execution_count": 4,
   "id": "e5a2b8fd-85c7-4287-bf23-dea8de83c2e6",
   "metadata": {
    "tags": []
   },
   "outputs": [
    {
     "data": {
      "text/plain": [
       "pyspark.sql.dataframe.DataFrame"
      ]
     },
     "execution_count": 4,
     "metadata": {},
     "output_type": "execute_result"
    }
   ],
   "source": [
    "type(raw_df)"
   ]
  },
  {
   "cell_type": "code",
   "execution_count": 5,
   "id": "84acebb4-b2b0-4347-bf6c-82016566b5a9",
   "metadata": {
    "tags": []
   },
   "outputs": [
    {
     "name": "stdout",
     "output_type": "stream",
     "text": [
      "+----------+---------------------------------------------------------------+--------+-------------+--------------+-------------------+-------------------+--------+------------------+-------------+-------+-------+------------+-----------+----------+-----------+---------+-------+-----+-----------------+\n",
      "|id        |name                                                           |currency|main_category|sub_category  |launched_at        |deadline           |duration|goal_usd          |city         |state  |country|blurb_length|name_length|status    |start_month|end_month|start_Q|end_Q|usd_pledged      |\n",
      "+----------+---------------------------------------------------------------+--------+-------------+--------------+-------------------+-------------------+--------+------------------+-------------+-------+-------+------------+-----------+----------+-----------+---------+-------+-----+-----------------+\n",
      "|1687733153|Socks of Speed and Socks of Elvenkind                          |USD     |games        |Tabletop Games|2018-10-30 20:00:02|2018-11-15 17:59:00|16.0    |2000.0            |Menasha      |WI     |US     |14          |7          |successful|10         |11       |Q4     |Q4   |6061.0           |\n",
      "|227936657 |Power Punch Boot Camp: An All-Ages Graphic Novel               |GBP     |comics       |Comic Books   |2018-08-06 10:00:43|2018-09-05 10:00:43|30.0    |3870.99771        |Shepperton   |England|GB     |24          |8          |successful|8          |9        |Q3     |Q3   |3914.505120400001|\n",
      "|454186436 |\"Live Printing with SX8: \"\"Squeegee Pulp Up\"\"\"                 |USD     |fashion      |Apparel       |2017-06-09 15:41:03|2017-07-09 15:41:03|30.0    |1100.0            |Manhattan    |NY     |US     |21          |7          |successful|6          |7        |Q2     |Q3   |1110.0           |\n",
      "|629469071 |Lost Dog Street Band's Next Album                              |USD     |music        |Country & Folk|2014-09-25 18:46:01|2014-11-10 06:00:00|45.0    |3500.0            |Nashville    |TN     |US     |15          |6          |successful|9          |11       |Q3     |Q4   |4807.0           |\n",
      "|183973060 |Qto-X, a Tiny Lantern                                          |USD     |technology   |Gadgets       |2016-11-28 16:35:11|2017-01-27 16:35:11|60.0    |30000.0           |Troy         |MI     |US     |15          |4          |successful|11         |1        |Q4     |Q1   |40368.0          |\n",
      "|122409435 |\"Aaron McDonnell EP \"\"Follow\"\"\"                                |USD     |music        |Country & Folk|2014-01-22 18:21:37|2014-02-21 18:21:37|30.0    |7500.0            |Seattle      |WA     |US     |11          |4          |successful|1          |2        |Q1     |Q1   |7770.0           |\n",
      "|421029848 |Lush Life                                                      |USD     |film & video |Drama         |2018-08-17 18:58:18|2018-09-16 18:58:18|30.0    |6000.0            |Los Angeles  |CA     |US     |3           |2          |successful|8          |9        |Q3     |Q3   |6500.0           |\n",
      "|1452339343|The biggest NASA fashion collection in the galaxy.             |EUR     |design       |Graphic Design|2018-07-17 21:36:14|2018-08-16 21:36:14|30.0    |1133.6878800000004|Berlin       |Berlin |DE     |17          |8          |successful|7          |8        |Q3     |Q3   |1168.384         |\n",
      "|815131323 |The Nothing Box                                                |USD     |art          |Sculpture     |2011-09-17 17:02:56|2011-10-17 17:02:56|30.0    |3000.0            |San Francisco|CA     |US     |19          |3          |successful|9          |10       |Q3     |Q4   |3511.0           |\n",
      "|2132215273|\"\"\"Sittin' 'round waitin' for the world to end\"\" 10\"\" project.\"|USD     |music        |Country & Folk|2013-03-01 17:01:17|2013-04-30 16:01:17|60.0    |1000.0            |Oceanside    |CA     |US     |27          |10         |successful|3          |4        |Q1     |Q2   |1770.85          |\n",
      "|390870    |Those White Horses - Issue #1                                  |CAD     |comics       |Comic Books   |2017-09-05 14:21:05|2017-10-05 14:21:05|30.0    |1135.634085       |Montreal     |QC     |CA     |23          |6          |successful|9          |10       |Q3     |Q4   |1388.8507862     |\n",
      "|209032207 |Fenton Fox--Boutique Swimwear Amazingness from Chicago!        |USD     |fashion      |Apparel       |2015-04-02 11:11:32|2015-04-22 01:30:00|20.0    |9000.0            |Chicago      |IL     |US     |22          |6          |successful|4          |4        |Q2     |Q2   |10390.0          |\n",
      "|140744503 |Rise of the Demigods                                           |USD     |games        |Tabletop Games|2018-07-30 17:03:03|2018-08-30 18:00:00|31.0    |17500.0           |Chicago      |IL     |US     |27          |4          |successful|7          |8        |Q3     |Q3   |45707.0          |\n",
      "|126578046 |Bunny Face LTD - Issue 1                                       |USD     |design       |Graphic Design|2015-01-29 22:27:36|2015-02-07 23:00:00|9.0     |100.0             |New London   |CT     |US     |18          |6          |successful|1          |2        |Q1     |Q1   |308.0            |\n",
      "|2052092929|Trash Can + Vacuum = Bruno, The World's First Smartcan.        |USD     |technology   |Gadgets       |2015-04-29 12:38:21|2015-06-04 12:38:21|36.0    |50000.0           |Tulsa        |OK     |US     |21          |10         |successful|4          |6        |Q2     |Q2   |117240.0         |\n",
      "|1165123048|Threads: A Gallery of Rogues                                   |USD     |comics       |Anthologies   |2018-06-04 16:06:30|2018-06-25 16:06:30|21.0    |6000.0            |Galax        |VA     |US     |10          |5          |successful|6          |6        |Q2     |Q2   |7320.0           |\n",
      "|548952659 |The Madeline Deveroux Project                                  |USD     |music        |Country & Folk|2013-12-12 04:50:33|2014-01-11 04:50:33|30.0    |5000.0            |Scottsdale   |AZ     |US     |12          |4          |successful|12         |1        |Q4     |Q1   |5000.0           |\n",
      "|750314045 |Weyhill & Wharf: The Preparatory Oxford                        |USD     |fashion      |Apparel       |2015-06-02 12:58:28|2015-07-02 12:58:28|30.0    |10000.0           |New York     |NY     |US     |19          |6          |successful|6          |7        |Q2     |Q3   |15533.0          |\n",
      "|22579374  |\"\"\"All Is Gift\"\" Album Production and Tour\"                    |USD     |music        |Country & Folk|2014-08-16 02:02:56|2014-09-15 02:02:56|30.0    |17000.0           |St. Paul     |MN     |US     |27          |7          |successful|8          |9        |Q3     |Q3   |17905.0          |\n",
      "|125916035 |Sounds from the Void - Cthulhu horror music companion          |GBP     |games        |Tabletop Games|2018-11-13 13:09:54|2018-11-27 13:09:54|14.0    |645.1662849999999 |Derby        |England|GB     |23          |9          |successful|11         |11       |Q4     |Q4   |923.2106037000001|\n",
      "+----------+---------------------------------------------------------------+--------+-------------+--------------+-------------------+-------------------+--------+------------------+-------------+-------+-------+------------+-----------+----------+-----------+---------+-------+-----+-----------------+\n",
      "only showing top 20 rows\n",
      "\n"
     ]
    }
   ],
   "source": [
    "raw_df.show(20,truncate=False)"
   ]
  },
  {
   "cell_type": "code",
   "execution_count": 6,
   "id": "b172723c-4be2-45a3-ba11-5326c2bb27c2",
   "metadata": {
    "tags": []
   },
   "outputs": [
    {
     "name": "stderr",
     "output_type": "stream",
     "text": [
      "                                                                                \r"
     ]
    },
    {
     "data": {
      "text/html": [
       "<div>\n",
       "<style scoped>\n",
       "    .dataframe tbody tr th:only-of-type {\n",
       "        vertical-align: middle;\n",
       "    }\n",
       "\n",
       "    .dataframe tbody tr th {\n",
       "        vertical-align: top;\n",
       "    }\n",
       "\n",
       "    .dataframe thead th {\n",
       "        text-align: right;\n",
       "    }\n",
       "</style>\n",
       "<table border=\"1\" class=\"dataframe\">\n",
       "  <thead>\n",
       "    <tr style=\"text-align: right;\">\n",
       "      <th></th>\n",
       "      <th>id</th>\n",
       "      <th>name</th>\n",
       "      <th>currency</th>\n",
       "      <th>main_category</th>\n",
       "      <th>sub_category</th>\n",
       "      <th>launched_at</th>\n",
       "      <th>deadline</th>\n",
       "      <th>duration</th>\n",
       "      <th>goal_usd</th>\n",
       "      <th>city</th>\n",
       "      <th>state</th>\n",
       "      <th>country</th>\n",
       "      <th>blurb_length</th>\n",
       "      <th>name_length</th>\n",
       "      <th>status</th>\n",
       "      <th>start_month</th>\n",
       "      <th>end_month</th>\n",
       "      <th>start_Q</th>\n",
       "      <th>end_Q</th>\n",
       "      <th>usd_pledged</th>\n",
       "    </tr>\n",
       "  </thead>\n",
       "  <tbody>\n",
       "    <tr>\n",
       "      <th>0</th>\n",
       "      <td>1687733153</td>\n",
       "      <td>Socks of Speed and Socks of Elvenkind</td>\n",
       "      <td>USD</td>\n",
       "      <td>games</td>\n",
       "      <td>Tabletop Games</td>\n",
       "      <td>2018-10-30 20:00:02</td>\n",
       "      <td>2018-11-15 17:59:00</td>\n",
       "      <td>16.0</td>\n",
       "      <td>2000.0</td>\n",
       "      <td>Menasha</td>\n",
       "      <td>WI</td>\n",
       "      <td>US</td>\n",
       "      <td>14</td>\n",
       "      <td>7</td>\n",
       "      <td>successful</td>\n",
       "      <td>10</td>\n",
       "      <td>11</td>\n",
       "      <td>Q4</td>\n",
       "      <td>Q4</td>\n",
       "      <td>6061.0</td>\n",
       "    </tr>\n",
       "    <tr>\n",
       "      <th>1</th>\n",
       "      <td>227936657</td>\n",
       "      <td>Power Punch Boot Camp: An All-Ages Graphic Novel</td>\n",
       "      <td>GBP</td>\n",
       "      <td>comics</td>\n",
       "      <td>Comic Books</td>\n",
       "      <td>2018-08-06 10:00:43</td>\n",
       "      <td>2018-09-05 10:00:43</td>\n",
       "      <td>30.0</td>\n",
       "      <td>3870.99771</td>\n",
       "      <td>Shepperton</td>\n",
       "      <td>England</td>\n",
       "      <td>GB</td>\n",
       "      <td>24</td>\n",
       "      <td>8</td>\n",
       "      <td>successful</td>\n",
       "      <td>8</td>\n",
       "      <td>9</td>\n",
       "      <td>Q3</td>\n",
       "      <td>Q3</td>\n",
       "      <td>3914.505120400001</td>\n",
       "    </tr>\n",
       "    <tr>\n",
       "      <th>2</th>\n",
       "      <td>454186436</td>\n",
       "      <td>\"Live Printing with SX8: \"\"Squeegee Pulp Up\"\"\"</td>\n",
       "      <td>USD</td>\n",
       "      <td>fashion</td>\n",
       "      <td>Apparel</td>\n",
       "      <td>2017-06-09 15:41:03</td>\n",
       "      <td>2017-07-09 15:41:03</td>\n",
       "      <td>30.0</td>\n",
       "      <td>1100.0</td>\n",
       "      <td>Manhattan</td>\n",
       "      <td>NY</td>\n",
       "      <td>US</td>\n",
       "      <td>21</td>\n",
       "      <td>7</td>\n",
       "      <td>successful</td>\n",
       "      <td>6</td>\n",
       "      <td>7</td>\n",
       "      <td>Q2</td>\n",
       "      <td>Q3</td>\n",
       "      <td>1110.0</td>\n",
       "    </tr>\n",
       "    <tr>\n",
       "      <th>3</th>\n",
       "      <td>629469071</td>\n",
       "      <td>Lost Dog Street Band's Next Album</td>\n",
       "      <td>USD</td>\n",
       "      <td>music</td>\n",
       "      <td>Country &amp; Folk</td>\n",
       "      <td>2014-09-25 18:46:01</td>\n",
       "      <td>2014-11-10 06:00:00</td>\n",
       "      <td>45.0</td>\n",
       "      <td>3500.0</td>\n",
       "      <td>Nashville</td>\n",
       "      <td>TN</td>\n",
       "      <td>US</td>\n",
       "      <td>15</td>\n",
       "      <td>6</td>\n",
       "      <td>successful</td>\n",
       "      <td>9</td>\n",
       "      <td>11</td>\n",
       "      <td>Q3</td>\n",
       "      <td>Q4</td>\n",
       "      <td>4807.0</td>\n",
       "    </tr>\n",
       "    <tr>\n",
       "      <th>4</th>\n",
       "      <td>183973060</td>\n",
       "      <td>Qto-X, a Tiny Lantern</td>\n",
       "      <td>USD</td>\n",
       "      <td>technology</td>\n",
       "      <td>Gadgets</td>\n",
       "      <td>2016-11-28 16:35:11</td>\n",
       "      <td>2017-01-27 16:35:11</td>\n",
       "      <td>60.0</td>\n",
       "      <td>30000.0</td>\n",
       "      <td>Troy</td>\n",
       "      <td>MI</td>\n",
       "      <td>US</td>\n",
       "      <td>15</td>\n",
       "      <td>4</td>\n",
       "      <td>successful</td>\n",
       "      <td>11</td>\n",
       "      <td>1</td>\n",
       "      <td>Q4</td>\n",
       "      <td>Q1</td>\n",
       "      <td>40368.0</td>\n",
       "    </tr>\n",
       "    <tr>\n",
       "      <th>...</th>\n",
       "      <td>...</td>\n",
       "      <td>...</td>\n",
       "      <td>...</td>\n",
       "      <td>...</td>\n",
       "      <td>...</td>\n",
       "      <td>...</td>\n",
       "      <td>...</td>\n",
       "      <td>...</td>\n",
       "      <td>...</td>\n",
       "      <td>...</td>\n",
       "      <td>...</td>\n",
       "      <td>...</td>\n",
       "      <td>...</td>\n",
       "      <td>...</td>\n",
       "      <td>...</td>\n",
       "      <td>...</td>\n",
       "      <td>...</td>\n",
       "      <td>...</td>\n",
       "      <td>...</td>\n",
       "      <td>...</td>\n",
       "    </tr>\n",
       "    <tr>\n",
       "      <th>192543</th>\n",
       "      <td>1882418986</td>\n",
       "      <td>Book CafÃÂ© Bergen</td>\n",
       "      <td>NOK</td>\n",
       "      <td>food</td>\n",
       "      <td>Drinks</td>\n",
       "      <td>2016-10-19 18:07:51</td>\n",
       "      <td>2016-12-18 19:07:51</td>\n",
       "      <td>60.0</td>\n",
       "      <td>57858.66499999999</td>\n",
       "      <td>Bergen</td>\n",
       "      <td>Hordaland Fylke</td>\n",
       "      <td>NO</td>\n",
       "      <td>21</td>\n",
       "      <td>3</td>\n",
       "      <td>failed</td>\n",
       "      <td>10</td>\n",
       "      <td>12</td>\n",
       "      <td>Q4</td>\n",
       "      <td>Q4</td>\n",
       "      <td>1.2242605</td>\n",
       "    </tr>\n",
       "    <tr>\n",
       "      <th>192544</th>\n",
       "      <td>89212319</td>\n",
       "      <td>Chainlink tool</td>\n",
       "      <td>NOK</td>\n",
       "      <td>technology</td>\n",
       "      <td>Fabrication Tools</td>\n",
       "      <td>2014-11-14 12:11:46</td>\n",
       "      <td>2014-12-31 12:59:00</td>\n",
       "      <td>47.0</td>\n",
       "      <td>115717.33</td>\n",
       "      <td>BÃÂ¥tsfjord</td>\n",
       "      <td>Finnmark Fylke</td>\n",
       "      <td>NO</td>\n",
       "      <td>18</td>\n",
       "      <td>2</td>\n",
       "      <td>failed</td>\n",
       "      <td>11</td>\n",
       "      <td>12</td>\n",
       "      <td>Q4</td>\n",
       "      <td>Q4</td>\n",
       "      <td>157.27393930000005</td>\n",
       "    </tr>\n",
       "    <tr>\n",
       "      <th>192545</th>\n",
       "      <td>109884142</td>\n",
       "      <td>PNW Juice Truck</td>\n",
       "      <td>USD</td>\n",
       "      <td>food</td>\n",
       "      <td>Drinks</td>\n",
       "      <td>2016-02-02 22:34:22</td>\n",
       "      <td>2016-03-03 22:34:22</td>\n",
       "      <td>30.0</td>\n",
       "      <td>30000.0</td>\n",
       "      <td>Seattle</td>\n",
       "      <td>WA</td>\n",
       "      <td>US</td>\n",
       "      <td>13</td>\n",
       "      <td>3</td>\n",
       "      <td>failed</td>\n",
       "      <td>2</td>\n",
       "      <td>3</td>\n",
       "      <td>Q1</td>\n",
       "      <td>Q1</td>\n",
       "      <td>0.0</td>\n",
       "    </tr>\n",
       "    <tr>\n",
       "      <th>192546</th>\n",
       "      <td>277520923</td>\n",
       "      <td>succulent christmas tree</td>\n",
       "      <td>USD</td>\n",
       "      <td>art</td>\n",
       "      <td>Conceptual Art</td>\n",
       "      <td>2014-08-06 18:16:29</td>\n",
       "      <td>2014-10-05 18:16:29</td>\n",
       "      <td>60.0</td>\n",
       "      <td>1200.0</td>\n",
       "      <td>Los Angeles</td>\n",
       "      <td>CA</td>\n",
       "      <td>US</td>\n",
       "      <td>3</td>\n",
       "      <td>3</td>\n",
       "      <td>failed</td>\n",
       "      <td>8</td>\n",
       "      <td>10</td>\n",
       "      <td>Q3</td>\n",
       "      <td>Q4</td>\n",
       "      <td>143.0</td>\n",
       "    </tr>\n",
       "    <tr>\n",
       "      <th>192547</th>\n",
       "      <td>2054018879</td>\n",
       "      <td>Monthly Herbal Boxes!</td>\n",
       "      <td>USD</td>\n",
       "      <td>crafts</td>\n",
       "      <td>DIY</td>\n",
       "      <td>2016-12-23 18:40:05</td>\n",
       "      <td>2017-02-21 18:40:05</td>\n",
       "      <td>60.0</td>\n",
       "      <td>7600.0</td>\n",
       "      <td>Phoenix</td>\n",
       "      <td>AZ</td>\n",
       "      <td>US</td>\n",
       "      <td>20</td>\n",
       "      <td>3</td>\n",
       "      <td>failed</td>\n",
       "      <td>12</td>\n",
       "      <td>2</td>\n",
       "      <td>Q4</td>\n",
       "      <td>Q1</td>\n",
       "      <td>311.0</td>\n",
       "    </tr>\n",
       "  </tbody>\n",
       "</table>\n",
       "<p>192548 rows × 20 columns</p>\n",
       "</div>"
      ],
      "text/plain": [
       "                id                                              name currency  \\\n",
       "0       1687733153             Socks of Speed and Socks of Elvenkind      USD   \n",
       "1        227936657  Power Punch Boot Camp: An All-Ages Graphic Novel      GBP   \n",
       "2        454186436    \"Live Printing with SX8: \"\"Squeegee Pulp Up\"\"\"      USD   \n",
       "3        629469071                 Lost Dog Street Band's Next Album      USD   \n",
       "4        183973060                             Qto-X, a Tiny Lantern      USD   \n",
       "...            ...                                               ...      ...   \n",
       "192543  1882418986                               Book CafÃÂ© Bergen      NOK   \n",
       "192544    89212319                                    Chainlink tool      NOK   \n",
       "192545   109884142                                   PNW Juice Truck      USD   \n",
       "192546   277520923                          succulent christmas tree      USD   \n",
       "192547  2054018879                             Monthly Herbal Boxes!      USD   \n",
       "\n",
       "       main_category       sub_category          launched_at  \\\n",
       "0              games     Tabletop Games  2018-10-30 20:00:02   \n",
       "1             comics        Comic Books  2018-08-06 10:00:43   \n",
       "2            fashion            Apparel  2017-06-09 15:41:03   \n",
       "3              music     Country & Folk  2014-09-25 18:46:01   \n",
       "4         technology            Gadgets  2016-11-28 16:35:11   \n",
       "...              ...                ...                  ...   \n",
       "192543          food             Drinks  2016-10-19 18:07:51   \n",
       "192544    technology  Fabrication Tools  2014-11-14 12:11:46   \n",
       "192545          food             Drinks  2016-02-02 22:34:22   \n",
       "192546           art     Conceptual Art  2014-08-06 18:16:29   \n",
       "192547        crafts                DIY  2016-12-23 18:40:05   \n",
       "\n",
       "                   deadline duration           goal_usd          city  \\\n",
       "0       2018-11-15 17:59:00     16.0             2000.0       Menasha   \n",
       "1       2018-09-05 10:00:43     30.0         3870.99771    Shepperton   \n",
       "2       2017-07-09 15:41:03     30.0             1100.0     Manhattan   \n",
       "3       2014-11-10 06:00:00     45.0             3500.0     Nashville   \n",
       "4       2017-01-27 16:35:11     60.0            30000.0          Troy   \n",
       "...                     ...      ...                ...           ...   \n",
       "192543  2016-12-18 19:07:51     60.0  57858.66499999999        Bergen   \n",
       "192544  2014-12-31 12:59:00     47.0          115717.33  BÃÂ¥tsfjord   \n",
       "192545  2016-03-03 22:34:22     30.0            30000.0       Seattle   \n",
       "192546  2014-10-05 18:16:29     60.0             1200.0   Los Angeles   \n",
       "192547  2017-02-21 18:40:05     60.0             7600.0       Phoenix   \n",
       "\n",
       "                  state country blurb_length name_length      status  \\\n",
       "0                    WI      US           14           7  successful   \n",
       "1               England      GB           24           8  successful   \n",
       "2                    NY      US           21           7  successful   \n",
       "3                    TN      US           15           6  successful   \n",
       "4                    MI      US           15           4  successful   \n",
       "...                 ...     ...          ...         ...         ...   \n",
       "192543  Hordaland Fylke      NO           21           3      failed   \n",
       "192544   Finnmark Fylke      NO           18           2      failed   \n",
       "192545               WA      US           13           3      failed   \n",
       "192546               CA      US            3           3      failed   \n",
       "192547               AZ      US           20           3      failed   \n",
       "\n",
       "       start_month end_month start_Q end_Q         usd_pledged  \n",
       "0               10        11      Q4    Q4              6061.0  \n",
       "1                8         9      Q3    Q3   3914.505120400001  \n",
       "2                6         7      Q2    Q3              1110.0  \n",
       "3                9        11      Q3    Q4              4807.0  \n",
       "4               11         1      Q4    Q1             40368.0  \n",
       "...            ...       ...     ...   ...                 ...  \n",
       "192543          10        12      Q4    Q4           1.2242605  \n",
       "192544          11        12      Q4    Q4  157.27393930000005  \n",
       "192545           2         3      Q1    Q1                 0.0  \n",
       "192546           8        10      Q3    Q4               143.0  \n",
       "192547          12         2      Q4    Q1               311.0  \n",
       "\n",
       "[192548 rows x 20 columns]"
      ]
     },
     "execution_count": 6,
     "metadata": {},
     "output_type": "execute_result"
    }
   ],
   "source": [
    "raw_df.toPandas()"
   ]
  },
  {
   "cell_type": "code",
   "execution_count": 7,
   "id": "bdac9cd9-4396-455f-aaed-8782b7a5752c",
   "metadata": {
    "tags": []
   },
   "outputs": [],
   "source": [
    "from great_expectations.dataset import SparkDFDataset"
   ]
  },
  {
   "cell_type": "code",
   "execution_count": 9,
   "id": "7897b05d-58f8-4cb3-9161-cf37618f706e",
   "metadata": {
    "tags": []
   },
   "outputs": [
    {
     "name": "stderr",
     "output_type": "stream",
     "text": [
      "2023-03-18 19:01:24,980 WARN execution.CacheManager: Asked to cache already cached data.\n"
     ]
    },
    {
     "data": {
      "text/plain": [
       "great_expectations.dataset.sparkdf_dataset.SparkDFDataset"
      ]
     },
     "execution_count": 9,
     "metadata": {},
     "output_type": "execute_result"
    }
   ],
   "source": [
    "raw_test_df=SparkDFDataset(raw_df)\n",
    "type(raw_test_df)"
   ]
  },
  {
   "cell_type": "markdown",
   "id": "1ad36c09-6a47-4e20-9a9d-60d391433a9f",
   "metadata": {
    "tags": []
   },
   "source": [
    "## 1.Check Mandatory columns"
   ]
  },
  {
   "cell_type": "code",
   "execution_count": 11,
   "id": "2cf6daac-430d-4eeb-9ea0-81d2844bf20c",
   "metadata": {
    "tags": []
   },
   "outputs": [],
   "source": [
    "mandatory_columns=[\"id\",\"currency\",\"main_currency\",\"launched_at\",\"deadline\",\"country\",\"status\",\"usd_pledged\"]"
   ]
  },
  {
   "cell_type": "code",
   "execution_count": 13,
   "id": "138831d3-055e-4b54-a810-1b59f22303ae",
   "metadata": {
    "tags": []
   },
   "outputs": [
    {
     "name": "stdout",
     "output_type": "stream",
     "text": [
      "column id exists:PASSED\n",
      "column currency exists:PASSED\n",
      "column main_currency does not exist:FAILED\n",
      "column launched_at exists:PASSED\n",
      "column deadline exists:PASSED\n",
      "column country exists:PASSED\n",
      "column status exists:PASSED\n",
      "column usd_pledged exists:PASSED\n"
     ]
    }
   ],
   "source": [
    "for column in mandatory_columns:\n",
    "    try:\n",
    "        assert raw_test_df.expect_column_to_exist(column).success,f\"column {column} does not exist:FAILED\"\n",
    "        print(f\"column {column} exists:PASSED\")\n",
    "    except AssertionError as e:\n",
    "        print(e)"
   ]
  },
  {
   "cell_type": "markdown",
   "id": "2d8201a1-df43-49f1-ad4f-15954cf04a77",
   "metadata": {},
   "source": [
    "## 2.Mandatory columns should not be null"
   ]
  },
  {
   "cell_type": "code",
   "execution_count": 18,
   "id": "6b138dac-5a2b-4c91-886b-6da62a354495",
   "metadata": {
    "tags": []
   },
   "outputs": [
    {
     "name": "stdout",
     "output_type": "stream",
     "text": [
      "All items in column id are not null:PASSED\n",
      "All items in column currency are not null:PASSED\n",
      "1 of 192548 items in column main_category are null:FAILED\n",
      "1 of 192548 items in column launched_at are null:FAILED\n",
      "1 of 192548 items in column deadline are null:FAILED\n",
      "1 of 192548 items in column country are null:FAILED\n",
      "1 of 192548 items in column status are null:FAILED\n",
      "1 of 192548 items in column usd_pledged are null:FAILED\n"
     ]
    }
   ],
   "source": [
    "from pyspark.sql.utils import AnalysisException\n",
    "mandatory_cols=[\"id\",\"currency\",\"main_category\",\"launched_at\",\"deadline\",\"country\",\"status\",\"usd_pledged\"]\n",
    "for column in mandatory_cols:\n",
    "    try:\n",
    "        test_result = raw_test_df.expect_column_values_to_not_be_null(column)\n",
    "        assert test_result.success, f\"{test_result.result['unexpected_count']} of {test_result.result['element_count']} items in column {column} are null:FAILED\"\n",
    "        print(f\"All items in column {column} are not null:PASSED\")\n",
    "    except AssertionError as e:\n",
    "        print(e)\n",
    "    except AnalysisException as e:\n",
    "        print(e)"
   ]
  },
  {
   "cell_type": "markdown",
   "id": "1f221dc6-3b84-4d44-b42f-d6c53550bd3e",
   "metadata": {},
   "source": [
    "## 3.Check for valid date format"
   ]
  },
  {
   "cell_type": "code",
   "execution_count": 24,
   "id": "45a34680-3e6d-40f9-9689-d54f89bfcfff",
   "metadata": {
    "tags": []
   },
   "outputs": [
    {
     "data": {
      "text/plain": [
       "'\"0.29% is not a valid date time format'"
      ]
     },
     "execution_count": 24,
     "metadata": {},
     "output_type": "execute_result"
    }
   ],
   "source": [
    "#test_result=raw_test_df.expect_column_values_to_match_strftime_format('launched_at','%Y-%m-%d %H:%M:%S')\n",
    "test_result=raw_test_df.expect_column_values_to_match_regex('launched_at',r\"^\\d{4}-\\d{2}-\\d{2} \\d{2}:\\d{2}:\\d{2}$\")\n",
    "f\"\"\"\"{round(test_result.result['unexpected_percent'],2)}% is not a valid date time format\"\"\""
   ]
  },
  {
   "cell_type": "code",
   "execution_count": 25,
   "id": "ca0d7096-7289-483e-b12c-c66353b94f35",
   "metadata": {
    "tags": []
   },
   "outputs": [
    {
     "data": {
      "text/plain": [
       "'\"0.04% is not a valid date time format'"
      ]
     },
     "execution_count": 25,
     "metadata": {},
     "output_type": "execute_result"
    }
   ],
   "source": [
    "test_result=raw_test_df.expect_column_values_to_match_regex('deadline',r\"^\\d{4}-\\d{2}-\\d{2} \\d{2}:\\d{2}:\\d{2}$\")\n",
    "f\"\"\"\"{round(test_result.result['unexpected_percent'],2)}% is not a valid date time format\"\"\""
   ]
  },
  {
   "cell_type": "markdown",
   "id": "60fea1d5-6d01-4627-acad-d6e6506cc2f9",
   "metadata": {},
   "source": [
    "## 4.Check for uniqueness"
   ]
  },
  {
   "cell_type": "code",
   "execution_count": 27,
   "id": "ba364080-a2d5-4af9-91f6-c0248f98a356",
   "metadata": {
    "tags": []
   },
   "outputs": [
    {
     "name": "stdout",
     "output_type": "stream",
     "text": [
      "48162 of 192548 items or 25.01% are not unique:FAILED\n"
     ]
    }
   ],
   "source": [
    "test_result=raw_test_df.expect_column_values_to_be_unique(\"id\")\n",
    "failed_msg = f\"{test_result.result['unexpected_count']} of {test_result.result['element_count']} items or {round(test_result.result['unexpected_percent'],2)}% are not unique:FAILED\"\n",
    "print(f\"column id is unique:PASSED\" if test_result.success else failed_msg)"
   ]
  },
  {
   "cell_type": "markdown",
   "id": "b7adbeb9-7f93-46e3-9981-684e0f1cdd0c",
   "metadata": {},
   "source": [
    "# Filter Data"
   ]
  },
  {
   "cell_type": "markdown",
   "id": "df9b7697-826e-412f-a29b-2d4c855089c8",
   "metadata": {},
   "source": [
    "### Business Rules:\n",
    "1.filter campaigns in US only\n",
    "2.filter campaigns that are active in 2017 and 2018 based on \"launch_at\" and \"deadline\"\n",
    "3.include only a list of categories\n",
    "4.include successful campaigns only\n",
    "5.include USD currency"
   ]
  },
  {
   "cell_type": "code",
   "execution_count": 28,
   "id": "b96d00b5-5396-4594-8097-254a9f0e1003",
   "metadata": {
    "tags": []
   },
   "outputs": [],
   "source": [
    "main_categories=[\"art\",\"publishing\",\"film & video\",\"technology\",\"journalism\",\"food\",\"dance\",\"photography\",\"games\",\"crafts\",\"music\",\"comics\",\"theater\",\"design\"]\n",
    "assessment_year=['2017','2018']\n",
    "country='US'\n",
    "currency='USD'"
   ]
  },
  {
   "cell_type": "code",
   "execution_count": 39,
   "id": "52ed2c88-92c4-4d60-9817-b7acc5acddc7",
   "metadata": {
    "tags": []
   },
   "outputs": [],
   "source": [
    "# reference data for assessment year\n",
    "# assessment_yr_refer=[(\"2017\",\"2016-07-01\",\"2017-06-30\"),(\"2018\",\"2017-07-01\",\"2018-06-30\")]\n",
    "# cols=['assessment_year','period_start_dt','period_end_dt']\n",
    "# ay_df=spark.createDataFrame(assessment_yr_refer,cols)\n",
    "# ay_df_ref=spark.createOrReplaceView(\"ay_ref\")"
   ]
  },
  {
   "cell_type": "code",
   "execution_count": 40,
   "id": "cf4763d3-e1b8-46c9-ae51-5061989fa5f3",
   "metadata": {
    "tags": []
   },
   "outputs": [],
   "source": [
    "ay_df=spark.read.option(\"header\",\"true\").csv(\"file:///home/padmapriya/GX/ay_data.csv\")"
   ]
  },
  {
   "cell_type": "code",
   "execution_count": 41,
   "id": "23a583d7-8f1a-4846-b7d5-15253f36f249",
   "metadata": {
    "tags": []
   },
   "outputs": [
    {
     "name": "stdout",
     "output_type": "stream",
     "text": [
      "+---------------+---------------+-------------+\n",
      "|assessment_year|period_start_dt|period_end_dt|\n",
      "+---------------+---------------+-------------+\n",
      "|           2017|     2016-07-01|   2017-06-30|\n",
      "|           2018|     2017-07-01|   2018-06-30|\n",
      "+---------------+---------------+-------------+\n",
      "\n"
     ]
    }
   ],
   "source": [
    "ay_df.show()"
   ]
  },
  {
   "cell_type": "code",
   "execution_count": 44,
   "id": "454f989e-9509-4dc5-893b-da58e0c13696",
   "metadata": {
    "tags": []
   },
   "outputs": [],
   "source": [
    "ay_df_ref=ay_df.createOrReplaceTempView(\"ay_ref\")"
   ]
  },
  {
   "cell_type": "markdown",
   "id": "1f3dce99-c8fb-487b-a759-d3b164363724",
   "metadata": {},
   "source": [
    "## Apply transformation"
   ]
  },
  {
   "cell_type": "code",
   "execution_count": 47,
   "id": "d8540f3c-54ca-43e4-8bb8-b50ef0a77a59",
   "metadata": {
    "tags": []
   },
   "outputs": [
    {
     "data": {
      "text/html": [
       "<div>\n",
       "<style scoped>\n",
       "    .dataframe tbody tr th:only-of-type {\n",
       "        vertical-align: middle;\n",
       "    }\n",
       "\n",
       "    .dataframe tbody tr th {\n",
       "        vertical-align: top;\n",
       "    }\n",
       "\n",
       "    .dataframe thead th {\n",
       "        text-align: right;\n",
       "    }\n",
       "</style>\n",
       "<table border=\"1\" class=\"dataframe\">\n",
       "  <thead>\n",
       "    <tr style=\"text-align: right;\">\n",
       "      <th></th>\n",
       "      <th>id</th>\n",
       "      <th>name</th>\n",
       "      <th>currency</th>\n",
       "      <th>main_category</th>\n",
       "      <th>launched_at</th>\n",
       "      <th>deadline</th>\n",
       "      <th>goal_usd</th>\n",
       "      <th>country</th>\n",
       "      <th>usd_pledged</th>\n",
       "      <th>status</th>\n",
       "      <th>assessment_year</th>\n",
       "    </tr>\n",
       "  </thead>\n",
       "  <tbody>\n",
       "    <tr>\n",
       "      <th>0</th>\n",
       "      <td>10064783</td>\n",
       "      <td>WarmUp: A High-Protein Coffee</td>\n",
       "      <td>USD</td>\n",
       "      <td>food</td>\n",
       "      <td>2016-11-14 17:55:34</td>\n",
       "      <td>2016-12-14 17:55:34</td>\n",
       "      <td>8000.0</td>\n",
       "      <td>US</td>\n",
       "      <td>8599.0</td>\n",
       "      <td>successful</td>\n",
       "      <td>2017</td>\n",
       "    </tr>\n",
       "    <tr>\n",
       "      <th>1</th>\n",
       "      <td>1010419089</td>\n",
       "      <td>Silver Linings by J.R. Mounts</td>\n",
       "      <td>USD</td>\n",
       "      <td>comics</td>\n",
       "      <td>2018-01-10 02:10:01</td>\n",
       "      <td>2018-02-16 05:00:00</td>\n",
       "      <td>500.0</td>\n",
       "      <td>US</td>\n",
       "      <td>2914.5</td>\n",
       "      <td>successful</td>\n",
       "      <td>2018</td>\n",
       "    </tr>\n",
       "    <tr>\n",
       "      <th>2</th>\n",
       "      <td>1017132344</td>\n",
       "      <td>Princes of the Universe: a Nino Malong Art Book</td>\n",
       "      <td>USD</td>\n",
       "      <td>publishing</td>\n",
       "      <td>2016-07-31 19:03:04</td>\n",
       "      <td>2016-09-05 01:00:00</td>\n",
       "      <td>1200.0</td>\n",
       "      <td>US</td>\n",
       "      <td>1670.0</td>\n",
       "      <td>successful</td>\n",
       "      <td>2017</td>\n",
       "    </tr>\n",
       "    <tr>\n",
       "      <th>3</th>\n",
       "      <td>1029958445</td>\n",
       "      <td>Art of Cardistry - Geometry Playing Cards Vers...</td>\n",
       "      <td>USD</td>\n",
       "      <td>games</td>\n",
       "      <td>2018-03-03 01:54:57</td>\n",
       "      <td>2018-03-13 00:54:57</td>\n",
       "      <td>1000.0</td>\n",
       "      <td>US</td>\n",
       "      <td>1630.0</td>\n",
       "      <td>successful</td>\n",
       "      <td>2018</td>\n",
       "    </tr>\n",
       "    <tr>\n",
       "      <th>4</th>\n",
       "      <td>1036177598</td>\n",
       "      <td>Dead Duck &amp; Zombie Chick Radio Show (vinyl pre...</td>\n",
       "      <td>USD</td>\n",
       "      <td>comics</td>\n",
       "      <td>2018-03-27 11:53:02</td>\n",
       "      <td>2018-04-26 11:53:02</td>\n",
       "      <td>7000.0</td>\n",
       "      <td>US</td>\n",
       "      <td>7656.0</td>\n",
       "      <td>successful</td>\n",
       "      <td>2018</td>\n",
       "    </tr>\n",
       "    <tr>\n",
       "      <th>...</th>\n",
       "      <td>...</td>\n",
       "      <td>...</td>\n",
       "      <td>...</td>\n",
       "      <td>...</td>\n",
       "      <td>...</td>\n",
       "      <td>...</td>\n",
       "      <td>...</td>\n",
       "      <td>...</td>\n",
       "      <td>...</td>\n",
       "      <td>...</td>\n",
       "      <td>...</td>\n",
       "    </tr>\n",
       "    <tr>\n",
       "      <th>17851</th>\n",
       "      <td>980019524</td>\n",
       "      <td>Hushme - The World's First Voice Mask For Smar...</td>\n",
       "      <td>USD</td>\n",
       "      <td>technology</td>\n",
       "      <td>2017-05-10 12:55:45</td>\n",
       "      <td>2017-06-09 12:55:45</td>\n",
       "      <td>70000.0</td>\n",
       "      <td>US</td>\n",
       "      <td>71880.0</td>\n",
       "      <td>successful</td>\n",
       "      <td>2017</td>\n",
       "    </tr>\n",
       "    <tr>\n",
       "      <th>17852</th>\n",
       "      <td>981977447</td>\n",
       "      <td>Get Purer Hot Water with World's Most Advanced...</td>\n",
       "      <td>USD</td>\n",
       "      <td>technology</td>\n",
       "      <td>2017-05-01 15:33:19</td>\n",
       "      <td>2017-06-15 04:00:00</td>\n",
       "      <td>125000.0</td>\n",
       "      <td>US</td>\n",
       "      <td>164866.0</td>\n",
       "      <td>successful</td>\n",
       "      <td>2017</td>\n",
       "    </tr>\n",
       "    <tr>\n",
       "      <th>17853</th>\n",
       "      <td>982043894</td>\n",
       "      <td>Through the Window - A photographic tale of ca...</td>\n",
       "      <td>USD</td>\n",
       "      <td>photography</td>\n",
       "      <td>2017-09-03 22:42:47</td>\n",
       "      <td>2017-10-03 22:42:47</td>\n",
       "      <td>7500.0</td>\n",
       "      <td>US</td>\n",
       "      <td>11341.0</td>\n",
       "      <td>successful</td>\n",
       "      <td>2018</td>\n",
       "    </tr>\n",
       "    <tr>\n",
       "      <th>17854</th>\n",
       "      <td>993614901</td>\n",
       "      <td>Send me on The Arctic Circle 2018 Arts &amp; Scien...</td>\n",
       "      <td>USD</td>\n",
       "      <td>art</td>\n",
       "      <td>2018-01-29 16:58:19</td>\n",
       "      <td>2018-02-28 16:58:19</td>\n",
       "      <td>13500.0</td>\n",
       "      <td>US</td>\n",
       "      <td>14639.0</td>\n",
       "      <td>successful</td>\n",
       "      <td>2018</td>\n",
       "    </tr>\n",
       "    <tr>\n",
       "      <th>17855</th>\n",
       "      <td>99924900</td>\n",
       "      <td>The Space Hobo Bottlecap Divination Board</td>\n",
       "      <td>USD</td>\n",
       "      <td>art</td>\n",
       "      <td>2017-01-01 18:50:39</td>\n",
       "      <td>2017-01-16 20:00:00</td>\n",
       "      <td>2500.0</td>\n",
       "      <td>US</td>\n",
       "      <td>6636.0</td>\n",
       "      <td>successful</td>\n",
       "      <td>2017</td>\n",
       "    </tr>\n",
       "  </tbody>\n",
       "</table>\n",
       "<p>17856 rows × 11 columns</p>\n",
       "</div>"
      ],
      "text/plain": [
       "               id                                               name currency  \\\n",
       "0        10064783                      WarmUp: A High-Protein Coffee      USD   \n",
       "1      1010419089                      Silver Linings by J.R. Mounts      USD   \n",
       "2      1017132344    Princes of the Universe: a Nino Malong Art Book      USD   \n",
       "3      1029958445  Art of Cardistry - Geometry Playing Cards Vers...      USD   \n",
       "4      1036177598  Dead Duck & Zombie Chick Radio Show (vinyl pre...      USD   \n",
       "...           ...                                                ...      ...   \n",
       "17851   980019524  Hushme - The World's First Voice Mask For Smar...      USD   \n",
       "17852   981977447  Get Purer Hot Water with World's Most Advanced...      USD   \n",
       "17853   982043894  Through the Window - A photographic tale of ca...      USD   \n",
       "17854   993614901  Send me on The Arctic Circle 2018 Arts & Scien...      USD   \n",
       "17855    99924900          The Space Hobo Bottlecap Divination Board      USD   \n",
       "\n",
       "      main_category          launched_at             deadline  goal_usd  \\\n",
       "0              food  2016-11-14 17:55:34  2016-12-14 17:55:34    8000.0   \n",
       "1            comics  2018-01-10 02:10:01  2018-02-16 05:00:00     500.0   \n",
       "2        publishing  2016-07-31 19:03:04  2016-09-05 01:00:00    1200.0   \n",
       "3             games  2018-03-03 01:54:57  2018-03-13 00:54:57    1000.0   \n",
       "4            comics  2018-03-27 11:53:02  2018-04-26 11:53:02    7000.0   \n",
       "...             ...                  ...                  ...       ...   \n",
       "17851    technology  2017-05-10 12:55:45  2017-06-09 12:55:45   70000.0   \n",
       "17852    technology  2017-05-01 15:33:19  2017-06-15 04:00:00  125000.0   \n",
       "17853   photography  2017-09-03 22:42:47  2017-10-03 22:42:47    7500.0   \n",
       "17854           art  2018-01-29 16:58:19  2018-02-28 16:58:19   13500.0   \n",
       "17855           art  2017-01-01 18:50:39  2017-01-16 20:00:00    2500.0   \n",
       "\n",
       "      country usd_pledged      status assessment_year  \n",
       "0          US      8599.0  successful            2017  \n",
       "1          US      2914.5  successful            2018  \n",
       "2          US      1670.0  successful            2017  \n",
       "3          US      1630.0  successful            2018  \n",
       "4          US      7656.0  successful            2018  \n",
       "...       ...         ...         ...             ...  \n",
       "17851      US     71880.0  successful            2017  \n",
       "17852      US    164866.0  successful            2017  \n",
       "17853      US     11341.0  successful            2018  \n",
       "17854      US     14639.0  successful            2018  \n",
       "17855      US      6636.0  successful            2017  \n",
       "\n",
       "[17856 rows x 11 columns]"
      ]
     },
     "execution_count": 47,
     "metadata": {},
     "output_type": "execute_result"
    }
   ],
   "source": [
    "filtered_df = spark.sql(f\"\"\"\n",
    "    SELECT id,\n",
    "           name,\n",
    "           currency,\n",
    "           main_category,\n",
    "           launched_at,\n",
    "           deadline,\n",
    "           goal_usd,\n",
    "           country,\n",
    "           usd_pledged,\n",
    "           status,\n",
    "           assessment_year\n",
    "    FROM (SELECT t.*,\n",
    "               ay.assessment_year,\n",
    "               row_number() OVER (\n",
    "                   PARTITION BY t.id\n",
    "                   ORDER BY t.launched_at, \n",
    "                            ay.assessment_year DESC) row_no\n",
    "          FROM campaigns t\n",
    "          INNER JOIN ay_ref ay\n",
    "              ON TO_DATE(t.launched_at) <= ay.period_end_dt \n",
    "              AND t.deadline > ay.period_start_dt\n",
    "          WHERE country = '{country}'\n",
    "          AND status = 'successful'\n",
    "          AND main_category IN ('{\"','\".join(main_categories)}')\n",
    "          AND ay.assessment_year IN ('{\"','\".join(assessment_year)}')\n",
    "          AND currency = '{currency}'\n",
    "   ) WHERE row_no = 1 \n",
    "    \"\"\")\n",
    "filtered_df.createOrReplaceTempView(\"filtered_campaigns\")\n",
    "filtered_df.toPandas()"
   ]
  },
  {
   "cell_type": "markdown",
   "id": "49d7ef28-7598-4839-827e-1d757f9344b4",
   "metadata": {},
   "source": [
    "## Unit tests on filtered data"
   ]
  },
  {
   "cell_type": "code",
   "execution_count": 48,
   "id": "9fbbe319-45ce-4d31-8722-dc74f65e185a",
   "metadata": {
    "tags": []
   },
   "outputs": [],
   "source": [
    "filtered_test_df=SparkDFDataset(filtered_df)"
   ]
  },
  {
   "cell_type": "markdown",
   "id": "bbd5c5b8-3d9d-4f68-afe5-b064ee30e060",
   "metadata": {},
   "source": [
    "### 1.check if main_category in within scope"
   ]
  },
  {
   "cell_type": "code",
   "execution_count": 50,
   "id": "c4cd07fb-0c29-433b-a54d-abb98fd54a2a",
   "metadata": {
    "tags": []
   },
   "outputs": [
    {
     "name": "stdout",
     "output_type": "stream",
     "text": [
      "categores are in scope:PASSED\n"
     ]
    }
   ],
   "source": [
    "test_result=filtered_test_df.expect_column_values_to_be_in_set(\"main_category\",main_categories)\n",
    "print(f\"categores are in scope:{'PASSED' if test_result.success else 'FAILED'}\")"
   ]
  },
  {
   "cell_type": "markdown",
   "id": "d904442c-fd10-4f57-af35-5fead4c341f6",
   "metadata": {},
   "source": [
    "### 2. check if campaigns within US and in USD and are successful"
   ]
  },
  {
   "cell_type": "code",
   "execution_count": 51,
   "id": "6e326fba-840f-4c9e-8119-55c7b084000a",
   "metadata": {
    "tags": []
   },
   "outputs": [
    {
     "name": "stdout",
     "output_type": "stream",
     "text": [
      "campaigns done is US:PASSED\n"
     ]
    }
   ],
   "source": [
    "test_result=filtered_test_df.expect_column_values_to_be_in_set(\"country\",[\"US\"])\n",
    "print(f\"campaigns done is US:{'PASSED' if test_result.success else 'FAILED'}\")"
   ]
  },
  {
   "cell_type": "code",
   "execution_count": 52,
   "id": "eee2ed26-043e-43b7-8378-3612c6e4bc2a",
   "metadata": {
    "tags": []
   },
   "outputs": [
    {
     "name": "stdout",
     "output_type": "stream",
     "text": [
      "all campaigns successful:PASSED\n"
     ]
    }
   ],
   "source": [
    "test_result=filtered_test_df.expect_column_values_to_be_in_set(\"status\",[\"successful\"])\n",
    "print(f\"all campaigns successful:{'PASSED' if test_result.success else 'FAILED'}\")"
   ]
  },
  {
   "cell_type": "code",
   "execution_count": 53,
   "id": "519949b7-0e3a-431f-b8b4-e9b948d8fb0b",
   "metadata": {
    "tags": []
   },
   "outputs": [
    {
     "name": "stdout",
     "output_type": "stream",
     "text": [
      "all campaigns done in USD:PASSED\n"
     ]
    }
   ],
   "source": [
    "test_result=filtered_test_df.expect_column_values_to_be_in_set(\"currency\",[\"USD\"])\n",
    "print(f\"all campaigns done in USD:{'PASSED' if test_result.success else 'FAILED'}\")"
   ]
  },
  {
   "cell_type": "markdown",
   "id": "b2ab743b-a123-4201-8ba4-903d8c5a05b7",
   "metadata": {},
   "source": [
    "### 3.check for uniqueness"
   ]
  },
  {
   "cell_type": "code",
   "execution_count": 54,
   "id": "0c7a9a0e-4d58-439f-b248-08ee52679f2e",
   "metadata": {
    "tags": []
   },
   "outputs": [
    {
     "name": "stdout",
     "output_type": "stream",
     "text": [
      "id column is unique for each assessment year: PASSED\n"
     ]
    }
   ],
   "source": [
    "test_result = filtered_test_df.expect_compound_columns_to_be_unique([\"id\", \"assessment_year\"])\n",
    "print(f\"\"\"id column is unique for each assessment year: {'PASSED' if test_result.success else 'FAILED'}\"\"\")"
   ]
  },
  {
   "cell_type": "markdown",
   "id": "5deeb233-6eec-4972-a7e6-526e64290454",
   "metadata": {},
   "source": [
    "# standardise data"
   ]
  },
  {
   "cell_type": "code",
   "execution_count": 55,
   "id": "e31fe1da-1017-4470-b3f9-e43bb1f6f70e",
   "metadata": {
    "tags": []
   },
   "outputs": [],
   "source": [
    "# reduce to 6 final metric categories and based on total pledge\n",
    "metric_categories = [\n",
    "    'art, crafts, photography & design',\n",
    "    'dance & theater',\n",
    "    'music, film & video',\n",
    "    'comics, publishing & journalism',\n",
    "    'games & technology',\n",
    "    'food'  \n",
    "]\n",
    "pledge_categories = [\n",
    "    '100 Thousand and under',\n",
    "    'Between 100 Thousand and 500 Thousand',\n",
    "    'Between 500 Thousand and 1 Million',\n",
    "    'Between 1 Million and 5 Million',\n",
    "    '5 Million and over'\n",
    "]"
   ]
  },
  {
   "cell_type": "markdown",
   "id": "b8ef6498-ede8-455e-9bf5-b882463af428",
   "metadata": {},
   "source": [
    "### apply transformation"
   ]
  },
  {
   "cell_type": "code",
   "execution_count": 56,
   "id": "b88a5b7e-ea9c-4ec0-bd57-c1eebcd5f98b",
   "metadata": {
    "tags": []
   },
   "outputs": [
    {
     "data": {
      "text/html": [
       "<div>\n",
       "<style scoped>\n",
       "    .dataframe tbody tr th:only-of-type {\n",
       "        vertical-align: middle;\n",
       "    }\n",
       "\n",
       "    .dataframe tbody tr th {\n",
       "        vertical-align: top;\n",
       "    }\n",
       "\n",
       "    .dataframe thead th {\n",
       "        text-align: right;\n",
       "    }\n",
       "</style>\n",
       "<table border=\"1\" class=\"dataframe\">\n",
       "  <thead>\n",
       "    <tr style=\"text-align: right;\">\n",
       "      <th></th>\n",
       "      <th>id</th>\n",
       "      <th>name</th>\n",
       "      <th>currency</th>\n",
       "      <th>main_category</th>\n",
       "      <th>launched_at</th>\n",
       "      <th>deadline</th>\n",
       "      <th>goal_usd</th>\n",
       "      <th>country</th>\n",
       "      <th>usd_pledged</th>\n",
       "      <th>status</th>\n",
       "      <th>assessment_year</th>\n",
       "      <th>metric_category</th>\n",
       "      <th>pledge_category</th>\n",
       "    </tr>\n",
       "  </thead>\n",
       "  <tbody>\n",
       "    <tr>\n",
       "      <th>0</th>\n",
       "      <td>10064783</td>\n",
       "      <td>WarmUp: A High-Protein Coffee</td>\n",
       "      <td>USD</td>\n",
       "      <td>food</td>\n",
       "      <td>2016-11-14 17:55:34</td>\n",
       "      <td>2016-12-14 17:55:34</td>\n",
       "      <td>8000.0</td>\n",
       "      <td>US</td>\n",
       "      <td>8599.0</td>\n",
       "      <td>successful</td>\n",
       "      <td>2017</td>\n",
       "      <td>food</td>\n",
       "      <td>100 Thousand and under</td>\n",
       "    </tr>\n",
       "    <tr>\n",
       "      <th>1</th>\n",
       "      <td>1010419089</td>\n",
       "      <td>Silver Linings by J.R. Mounts</td>\n",
       "      <td>USD</td>\n",
       "      <td>comics</td>\n",
       "      <td>2018-01-10 02:10:01</td>\n",
       "      <td>2018-02-16 05:00:00</td>\n",
       "      <td>500.0</td>\n",
       "      <td>US</td>\n",
       "      <td>2914.5</td>\n",
       "      <td>successful</td>\n",
       "      <td>2018</td>\n",
       "      <td>comics, publishing &amp; journalism</td>\n",
       "      <td>100 Thousand and under</td>\n",
       "    </tr>\n",
       "    <tr>\n",
       "      <th>2</th>\n",
       "      <td>1017132344</td>\n",
       "      <td>Princes of the Universe: a Nino Malong Art Book</td>\n",
       "      <td>USD</td>\n",
       "      <td>publishing</td>\n",
       "      <td>2016-07-31 19:03:04</td>\n",
       "      <td>2016-09-05 01:00:00</td>\n",
       "      <td>1200.0</td>\n",
       "      <td>US</td>\n",
       "      <td>1670.0</td>\n",
       "      <td>successful</td>\n",
       "      <td>2017</td>\n",
       "      <td>comics, publishing &amp; journalism</td>\n",
       "      <td>100 Thousand and under</td>\n",
       "    </tr>\n",
       "    <tr>\n",
       "      <th>3</th>\n",
       "      <td>1029958445</td>\n",
       "      <td>Art of Cardistry - Geometry Playing Cards Vers...</td>\n",
       "      <td>USD</td>\n",
       "      <td>games</td>\n",
       "      <td>2018-03-03 01:54:57</td>\n",
       "      <td>2018-03-13 00:54:57</td>\n",
       "      <td>1000.0</td>\n",
       "      <td>US</td>\n",
       "      <td>1630.0</td>\n",
       "      <td>successful</td>\n",
       "      <td>2018</td>\n",
       "      <td>games &amp; technology</td>\n",
       "      <td>100 Thousand and under</td>\n",
       "    </tr>\n",
       "    <tr>\n",
       "      <th>4</th>\n",
       "      <td>1036177598</td>\n",
       "      <td>Dead Duck &amp; Zombie Chick Radio Show (vinyl pre...</td>\n",
       "      <td>USD</td>\n",
       "      <td>comics</td>\n",
       "      <td>2018-03-27 11:53:02</td>\n",
       "      <td>2018-04-26 11:53:02</td>\n",
       "      <td>7000.0</td>\n",
       "      <td>US</td>\n",
       "      <td>7656.0</td>\n",
       "      <td>successful</td>\n",
       "      <td>2018</td>\n",
       "      <td>comics, publishing &amp; journalism</td>\n",
       "      <td>100 Thousand and under</td>\n",
       "    </tr>\n",
       "    <tr>\n",
       "      <th>...</th>\n",
       "      <td>...</td>\n",
       "      <td>...</td>\n",
       "      <td>...</td>\n",
       "      <td>...</td>\n",
       "      <td>...</td>\n",
       "      <td>...</td>\n",
       "      <td>...</td>\n",
       "      <td>...</td>\n",
       "      <td>...</td>\n",
       "      <td>...</td>\n",
       "      <td>...</td>\n",
       "      <td>...</td>\n",
       "      <td>...</td>\n",
       "    </tr>\n",
       "    <tr>\n",
       "      <th>17851</th>\n",
       "      <td>980019524</td>\n",
       "      <td>Hushme - The World's First Voice Mask For Smar...</td>\n",
       "      <td>USD</td>\n",
       "      <td>technology</td>\n",
       "      <td>2017-05-10 12:55:45</td>\n",
       "      <td>2017-06-09 12:55:45</td>\n",
       "      <td>70000.0</td>\n",
       "      <td>US</td>\n",
       "      <td>71880.0</td>\n",
       "      <td>successful</td>\n",
       "      <td>2017</td>\n",
       "      <td>games &amp; technology</td>\n",
       "      <td>100 Thousand and under</td>\n",
       "    </tr>\n",
       "    <tr>\n",
       "      <th>17852</th>\n",
       "      <td>981977447</td>\n",
       "      <td>Get Purer Hot Water with World's Most Advanced...</td>\n",
       "      <td>USD</td>\n",
       "      <td>technology</td>\n",
       "      <td>2017-05-01 15:33:19</td>\n",
       "      <td>2017-06-15 04:00:00</td>\n",
       "      <td>125000.0</td>\n",
       "      <td>US</td>\n",
       "      <td>164866.0</td>\n",
       "      <td>successful</td>\n",
       "      <td>2017</td>\n",
       "      <td>games &amp; technology</td>\n",
       "      <td>Between 100 Thousand and 500 Thousand</td>\n",
       "    </tr>\n",
       "    <tr>\n",
       "      <th>17853</th>\n",
       "      <td>982043894</td>\n",
       "      <td>Through the Window - A photographic tale of ca...</td>\n",
       "      <td>USD</td>\n",
       "      <td>photography</td>\n",
       "      <td>2017-09-03 22:42:47</td>\n",
       "      <td>2017-10-03 22:42:47</td>\n",
       "      <td>7500.0</td>\n",
       "      <td>US</td>\n",
       "      <td>11341.0</td>\n",
       "      <td>successful</td>\n",
       "      <td>2018</td>\n",
       "      <td>art, crafts, photography &amp; design</td>\n",
       "      <td>100 Thousand and under</td>\n",
       "    </tr>\n",
       "    <tr>\n",
       "      <th>17854</th>\n",
       "      <td>993614901</td>\n",
       "      <td>Send me on The Arctic Circle 2018 Arts &amp; Scien...</td>\n",
       "      <td>USD</td>\n",
       "      <td>art</td>\n",
       "      <td>2018-01-29 16:58:19</td>\n",
       "      <td>2018-02-28 16:58:19</td>\n",
       "      <td>13500.0</td>\n",
       "      <td>US</td>\n",
       "      <td>14639.0</td>\n",
       "      <td>successful</td>\n",
       "      <td>2018</td>\n",
       "      <td>art, crafts, photography &amp; design</td>\n",
       "      <td>100 Thousand and under</td>\n",
       "    </tr>\n",
       "    <tr>\n",
       "      <th>17855</th>\n",
       "      <td>99924900</td>\n",
       "      <td>The Space Hobo Bottlecap Divination Board</td>\n",
       "      <td>USD</td>\n",
       "      <td>art</td>\n",
       "      <td>2017-01-01 18:50:39</td>\n",
       "      <td>2017-01-16 20:00:00</td>\n",
       "      <td>2500.0</td>\n",
       "      <td>US</td>\n",
       "      <td>6636.0</td>\n",
       "      <td>successful</td>\n",
       "      <td>2017</td>\n",
       "      <td>art, crafts, photography &amp; design</td>\n",
       "      <td>100 Thousand and under</td>\n",
       "    </tr>\n",
       "  </tbody>\n",
       "</table>\n",
       "<p>17856 rows × 13 columns</p>\n",
       "</div>"
      ],
      "text/plain": [
       "               id                                               name currency  \\\n",
       "0        10064783                      WarmUp: A High-Protein Coffee      USD   \n",
       "1      1010419089                      Silver Linings by J.R. Mounts      USD   \n",
       "2      1017132344    Princes of the Universe: a Nino Malong Art Book      USD   \n",
       "3      1029958445  Art of Cardistry - Geometry Playing Cards Vers...      USD   \n",
       "4      1036177598  Dead Duck & Zombie Chick Radio Show (vinyl pre...      USD   \n",
       "...           ...                                                ...      ...   \n",
       "17851   980019524  Hushme - The World's First Voice Mask For Smar...      USD   \n",
       "17852   981977447  Get Purer Hot Water with World's Most Advanced...      USD   \n",
       "17853   982043894  Through the Window - A photographic tale of ca...      USD   \n",
       "17854   993614901  Send me on The Arctic Circle 2018 Arts & Scien...      USD   \n",
       "17855    99924900          The Space Hobo Bottlecap Divination Board      USD   \n",
       "\n",
       "      main_category          launched_at             deadline  goal_usd  \\\n",
       "0              food  2016-11-14 17:55:34  2016-12-14 17:55:34    8000.0   \n",
       "1            comics  2018-01-10 02:10:01  2018-02-16 05:00:00     500.0   \n",
       "2        publishing  2016-07-31 19:03:04  2016-09-05 01:00:00    1200.0   \n",
       "3             games  2018-03-03 01:54:57  2018-03-13 00:54:57    1000.0   \n",
       "4            comics  2018-03-27 11:53:02  2018-04-26 11:53:02    7000.0   \n",
       "...             ...                  ...                  ...       ...   \n",
       "17851    technology  2017-05-10 12:55:45  2017-06-09 12:55:45   70000.0   \n",
       "17852    technology  2017-05-01 15:33:19  2017-06-15 04:00:00  125000.0   \n",
       "17853   photography  2017-09-03 22:42:47  2017-10-03 22:42:47    7500.0   \n",
       "17854           art  2018-01-29 16:58:19  2018-02-28 16:58:19   13500.0   \n",
       "17855           art  2017-01-01 18:50:39  2017-01-16 20:00:00    2500.0   \n",
       "\n",
       "      country usd_pledged      status assessment_year  \\\n",
       "0          US      8599.0  successful            2017   \n",
       "1          US      2914.5  successful            2018   \n",
       "2          US      1670.0  successful            2017   \n",
       "3          US      1630.0  successful            2018   \n",
       "4          US      7656.0  successful            2018   \n",
       "...       ...         ...         ...             ...   \n",
       "17851      US     71880.0  successful            2017   \n",
       "17852      US    164866.0  successful            2017   \n",
       "17853      US     11341.0  successful            2018   \n",
       "17854      US     14639.0  successful            2018   \n",
       "17855      US      6636.0  successful            2017   \n",
       "\n",
       "                         metric_category  \\\n",
       "0                                   food   \n",
       "1        comics, publishing & journalism   \n",
       "2        comics, publishing & journalism   \n",
       "3                     games & technology   \n",
       "4        comics, publishing & journalism   \n",
       "...                                  ...   \n",
       "17851                 games & technology   \n",
       "17852                 games & technology   \n",
       "17853  art, crafts, photography & design   \n",
       "17854  art, crafts, photography & design   \n",
       "17855  art, crafts, photography & design   \n",
       "\n",
       "                             pledge_category  \n",
       "0                     100 Thousand and under  \n",
       "1                     100 Thousand and under  \n",
       "2                     100 Thousand and under  \n",
       "3                     100 Thousand and under  \n",
       "4                     100 Thousand and under  \n",
       "...                                      ...  \n",
       "17851                 100 Thousand and under  \n",
       "17852  Between 100 Thousand and 500 Thousand  \n",
       "17853                 100 Thousand and under  \n",
       "17854                 100 Thousand and under  \n",
       "17855                 100 Thousand and under  \n",
       "\n",
       "[17856 rows x 13 columns]"
      ]
     },
     "execution_count": 56,
     "metadata": {},
     "output_type": "execute_result"
    }
   ],
   "source": [
    "standardised_df = spark.sql(f\"\"\"\n",
    "    SELECT t.*,\n",
    "         CASE \n",
    "             WHEN main_category IN ('art','crafts','photography','design') THEN 'art, crafts, photography & design'\n",
    "              WHEN main_category IN ('dance','theater') THEN 'dance & theater'\n",
    "              WHEN main_category IN ('music','film & video') THEN 'music, film & video'\n",
    "              WHEN main_category IN ('comics','publishing','journalism') THEN 'comics, publishing & journalism'\n",
    "              WHEN main_category IN ('games', 'technology') THEN 'games & technology'\n",
    "              WHEN main_category IN ('food') THEN 'food'                  \n",
    "             END metric_category,\n",
    "         CASE WHEN usd_pledged <= 100000 THEN '100 Thousand and under'\n",
    "              WHEN usd_pledged > 100000 AND usd_pledged < 500000 THEN 'Between 100 Thousand and 500 Thousand'\n",
    "              WHEN usd_pledged > 500000 AND usd_pledged < 1000000 THEN 'Between 500 Thousand and 1 Million'\n",
    "              WHEN usd_pledged > 1000000 AND usd_pledged < 5000000 THEN 'Between 1 Million and 5 Million'\n",
    "           ELSE '5 Million and over'\n",
    "           END pledge_category    \n",
    "    FROM filtered_campaigns t       \n",
    "\"\"\")\n",
    "standardised_df.createOrReplaceTempView(\"standardised_campaigns\")\n",
    "standardised_df.toPandas()"
   ]
  },
  {
   "cell_type": "markdown",
   "id": "7e1ee834-87e6-4bc4-8b6a-9390bbd7666b",
   "metadata": {},
   "source": [
    "## Unit tests"
   ]
  },
  {
   "cell_type": "code",
   "execution_count": 57,
   "id": "606ef5d3-14ad-4961-9dd8-fbd49e8d20ea",
   "metadata": {
    "tags": []
   },
   "outputs": [],
   "source": [
    "std_test_df=SparkDFDataset(standardised_df)"
   ]
  },
  {
   "cell_type": "markdown",
   "id": "8ba016aa-29ef-46bb-b50b-9bddbd00a46d",
   "metadata": {},
   "source": [
    "### 1. check if campaign population equal to previous"
   ]
  },
  {
   "cell_type": "code",
   "execution_count": 60,
   "id": "9fd89717-a733-4298-b949-c471c691a642",
   "metadata": {
    "tags": []
   },
   "outputs": [
    {
     "name": "stdout",
     "output_type": "stream",
     "text": [
      "Total row count of standardised_df (17856) is equal to total row count of filtered_df (17856):PASSED\n"
     ]
    }
   ],
   "source": [
    "filtered_total_rows = filtered_test_df.get_row_count()\n",
    "test_result = std_test_df.expect_table_row_count_to_equal(filtered_total_rows)\n",
    "\n",
    "print(f\"\"\"Total row count of standardised_df ({test_result.result['observed_value']}) \\\n",
    "is equal to total row count of filtered_df ({filtered_total_rows}):{'PASSED' if test_result.result['observed_value'] == filtered_total_rows else 'FAILED'}\"\"\")"
   ]
  },
  {
   "cell_type": "markdown",
   "id": "5fad0ddc-accd-4a58-b92c-dc1416886de2",
   "metadata": {},
   "source": [
    "# Generate Metrics"
   ]
  },
  {
   "cell_type": "markdown",
   "id": "4e7939b1-d8cf-421b-90dd-e7d20ed8c9f1",
   "metadata": {},
   "source": [
    "### number of successful campaigns for each metric and pledge category per assessment year"
   ]
  },
  {
   "cell_type": "code",
   "execution_count": 61,
   "id": "5c406ac6-2061-4b49-b710-cb009205311d",
   "metadata": {
    "tags": []
   },
   "outputs": [
    {
     "data": {
      "text/html": [
       "<div>\n",
       "<style scoped>\n",
       "    .dataframe tbody tr th:only-of-type {\n",
       "        vertical-align: middle;\n",
       "    }\n",
       "\n",
       "    .dataframe tbody tr th {\n",
       "        vertical-align: top;\n",
       "    }\n",
       "\n",
       "    .dataframe thead th {\n",
       "        text-align: right;\n",
       "    }\n",
       "</style>\n",
       "<table border=\"1\" class=\"dataframe\">\n",
       "  <thead>\n",
       "    <tr style=\"text-align: right;\">\n",
       "      <th></th>\n",
       "      <th>assessment_year</th>\n",
       "      <th>metric_category</th>\n",
       "      <th>pledge_category</th>\n",
       "      <th>total_successful_campaigns</th>\n",
       "    </tr>\n",
       "  </thead>\n",
       "  <tbody>\n",
       "    <tr>\n",
       "      <th>0</th>\n",
       "      <td>2017</td>\n",
       "      <td>art, crafts, photography &amp; design</td>\n",
       "      <td>100 Thousand and under</td>\n",
       "      <td>1319</td>\n",
       "    </tr>\n",
       "    <tr>\n",
       "      <th>1</th>\n",
       "      <td>2017</td>\n",
       "      <td>art, crafts, photography &amp; design</td>\n",
       "      <td>Between 1 Million and 5 Million</td>\n",
       "      <td>2</td>\n",
       "    </tr>\n",
       "    <tr>\n",
       "      <th>2</th>\n",
       "      <td>2017</td>\n",
       "      <td>art, crafts, photography &amp; design</td>\n",
       "      <td>Between 100 Thousand and 500 Thousand</td>\n",
       "      <td>11</td>\n",
       "    </tr>\n",
       "    <tr>\n",
       "      <th>3</th>\n",
       "      <td>2017</td>\n",
       "      <td>art, crafts, photography &amp; design</td>\n",
       "      <td>Between 500 Thousand and 1 Million</td>\n",
       "      <td>3</td>\n",
       "    </tr>\n",
       "    <tr>\n",
       "      <th>4</th>\n",
       "      <td>2017</td>\n",
       "      <td>comics, publishing &amp; journalism</td>\n",
       "      <td>100 Thousand and under</td>\n",
       "      <td>1914</td>\n",
       "    </tr>\n",
       "    <tr>\n",
       "      <th>5</th>\n",
       "      <td>2017</td>\n",
       "      <td>comics, publishing &amp; journalism</td>\n",
       "      <td>Between 100 Thousand and 500 Thousand</td>\n",
       "      <td>22</td>\n",
       "    </tr>\n",
       "    <tr>\n",
       "      <th>6</th>\n",
       "      <td>2017</td>\n",
       "      <td>dance &amp; theater</td>\n",
       "      <td>100 Thousand and under</td>\n",
       "      <td>468</td>\n",
       "    </tr>\n",
       "    <tr>\n",
       "      <th>7</th>\n",
       "      <td>2017</td>\n",
       "      <td>food</td>\n",
       "      <td>100 Thousand and under</td>\n",
       "      <td>620</td>\n",
       "    </tr>\n",
       "    <tr>\n",
       "      <th>8</th>\n",
       "      <td>2017</td>\n",
       "      <td>food</td>\n",
       "      <td>Between 1 Million and 5 Million</td>\n",
       "      <td>1</td>\n",
       "    </tr>\n",
       "    <tr>\n",
       "      <th>9</th>\n",
       "      <td>2017</td>\n",
       "      <td>food</td>\n",
       "      <td>Between 100 Thousand and 500 Thousand</td>\n",
       "      <td>6</td>\n",
       "    </tr>\n",
       "    <tr>\n",
       "      <th>10</th>\n",
       "      <td>2017</td>\n",
       "      <td>games &amp; technology</td>\n",
       "      <td>100 Thousand and under</td>\n",
       "      <td>983</td>\n",
       "    </tr>\n",
       "    <tr>\n",
       "      <th>11</th>\n",
       "      <td>2017</td>\n",
       "      <td>games &amp; technology</td>\n",
       "      <td>5 Million and over</td>\n",
       "      <td>1</td>\n",
       "    </tr>\n",
       "    <tr>\n",
       "      <th>12</th>\n",
       "      <td>2017</td>\n",
       "      <td>games &amp; technology</td>\n",
       "      <td>Between 1 Million and 5 Million</td>\n",
       "      <td>25</td>\n",
       "    </tr>\n",
       "    <tr>\n",
       "      <th>13</th>\n",
       "      <td>2017</td>\n",
       "      <td>games &amp; technology</td>\n",
       "      <td>Between 100 Thousand and 500 Thousand</td>\n",
       "      <td>183</td>\n",
       "    </tr>\n",
       "    <tr>\n",
       "      <th>14</th>\n",
       "      <td>2017</td>\n",
       "      <td>games &amp; technology</td>\n",
       "      <td>Between 500 Thousand and 1 Million</td>\n",
       "      <td>27</td>\n",
       "    </tr>\n",
       "    <tr>\n",
       "      <th>15</th>\n",
       "      <td>2017</td>\n",
       "      <td>music, film &amp; video</td>\n",
       "      <td>100 Thousand and under</td>\n",
       "      <td>2370</td>\n",
       "    </tr>\n",
       "    <tr>\n",
       "      <th>16</th>\n",
       "      <td>2017</td>\n",
       "      <td>music, film &amp; video</td>\n",
       "      <td>Between 1 Million and 5 Million</td>\n",
       "      <td>1</td>\n",
       "    </tr>\n",
       "    <tr>\n",
       "      <th>17</th>\n",
       "      <td>2017</td>\n",
       "      <td>music, film &amp; video</td>\n",
       "      <td>Between 100 Thousand and 500 Thousand</td>\n",
       "      <td>29</td>\n",
       "    </tr>\n",
       "    <tr>\n",
       "      <th>18</th>\n",
       "      <td>2017</td>\n",
       "      <td>music, film &amp; video</td>\n",
       "      <td>Between 500 Thousand and 1 Million</td>\n",
       "      <td>1</td>\n",
       "    </tr>\n",
       "    <tr>\n",
       "      <th>19</th>\n",
       "      <td>2018</td>\n",
       "      <td>art, crafts, photography &amp; design</td>\n",
       "      <td>100 Thousand and under</td>\n",
       "      <td>2062</td>\n",
       "    </tr>\n",
       "    <tr>\n",
       "      <th>20</th>\n",
       "      <td>2018</td>\n",
       "      <td>art, crafts, photography &amp; design</td>\n",
       "      <td>Between 1 Million and 5 Million</td>\n",
       "      <td>12</td>\n",
       "    </tr>\n",
       "    <tr>\n",
       "      <th>21</th>\n",
       "      <td>2018</td>\n",
       "      <td>art, crafts, photography &amp; design</td>\n",
       "      <td>Between 100 Thousand and 500 Thousand</td>\n",
       "      <td>104</td>\n",
       "    </tr>\n",
       "    <tr>\n",
       "      <th>22</th>\n",
       "      <td>2018</td>\n",
       "      <td>art, crafts, photography &amp; design</td>\n",
       "      <td>Between 500 Thousand and 1 Million</td>\n",
       "      <td>22</td>\n",
       "    </tr>\n",
       "    <tr>\n",
       "      <th>23</th>\n",
       "      <td>2018</td>\n",
       "      <td>comics, publishing &amp; journalism</td>\n",
       "      <td>100 Thousand and under</td>\n",
       "      <td>2334</td>\n",
       "    </tr>\n",
       "    <tr>\n",
       "      <th>24</th>\n",
       "      <td>2018</td>\n",
       "      <td>comics, publishing &amp; journalism</td>\n",
       "      <td>Between 100 Thousand and 500 Thousand</td>\n",
       "      <td>27</td>\n",
       "    </tr>\n",
       "    <tr>\n",
       "      <th>25</th>\n",
       "      <td>2018</td>\n",
       "      <td>comics, publishing &amp; journalism</td>\n",
       "      <td>Between 500 Thousand and 1 Million</td>\n",
       "      <td>2</td>\n",
       "    </tr>\n",
       "    <tr>\n",
       "      <th>26</th>\n",
       "      <td>2018</td>\n",
       "      <td>dance &amp; theater</td>\n",
       "      <td>100 Thousand and under</td>\n",
       "      <td>448</td>\n",
       "    </tr>\n",
       "    <tr>\n",
       "      <th>27</th>\n",
       "      <td>2018</td>\n",
       "      <td>dance &amp; theater</td>\n",
       "      <td>Between 100 Thousand and 500 Thousand</td>\n",
       "      <td>3</td>\n",
       "    </tr>\n",
       "    <tr>\n",
       "      <th>28</th>\n",
       "      <td>2018</td>\n",
       "      <td>food</td>\n",
       "      <td>100 Thousand and under</td>\n",
       "      <td>564</td>\n",
       "    </tr>\n",
       "    <tr>\n",
       "      <th>29</th>\n",
       "      <td>2018</td>\n",
       "      <td>food</td>\n",
       "      <td>Between 100 Thousand and 500 Thousand</td>\n",
       "      <td>9</td>\n",
       "    </tr>\n",
       "    <tr>\n",
       "      <th>30</th>\n",
       "      <td>2018</td>\n",
       "      <td>food</td>\n",
       "      <td>Between 500 Thousand and 1 Million</td>\n",
       "      <td>2</td>\n",
       "    </tr>\n",
       "    <tr>\n",
       "      <th>31</th>\n",
       "      <td>2018</td>\n",
       "      <td>games &amp; technology</td>\n",
       "      <td>100 Thousand and under</td>\n",
       "      <td>1445</td>\n",
       "    </tr>\n",
       "    <tr>\n",
       "      <th>32</th>\n",
       "      <td>2018</td>\n",
       "      <td>games &amp; technology</td>\n",
       "      <td>Between 1 Million and 5 Million</td>\n",
       "      <td>27</td>\n",
       "    </tr>\n",
       "    <tr>\n",
       "      <th>33</th>\n",
       "      <td>2018</td>\n",
       "      <td>games &amp; technology</td>\n",
       "      <td>Between 100 Thousand and 500 Thousand</td>\n",
       "      <td>229</td>\n",
       "    </tr>\n",
       "    <tr>\n",
       "      <th>34</th>\n",
       "      <td>2018</td>\n",
       "      <td>games &amp; technology</td>\n",
       "      <td>Between 500 Thousand and 1 Million</td>\n",
       "      <td>34</td>\n",
       "    </tr>\n",
       "    <tr>\n",
       "      <th>35</th>\n",
       "      <td>2018</td>\n",
       "      <td>music, film &amp; video</td>\n",
       "      <td>100 Thousand and under</td>\n",
       "      <td>2504</td>\n",
       "    </tr>\n",
       "    <tr>\n",
       "      <th>36</th>\n",
       "      <td>2018</td>\n",
       "      <td>music, film &amp; video</td>\n",
       "      <td>Between 100 Thousand and 500 Thousand</td>\n",
       "      <td>40</td>\n",
       "    </tr>\n",
       "    <tr>\n",
       "      <th>37</th>\n",
       "      <td>2018</td>\n",
       "      <td>music, film &amp; video</td>\n",
       "      <td>Between 500 Thousand and 1 Million</td>\n",
       "      <td>2</td>\n",
       "    </tr>\n",
       "  </tbody>\n",
       "</table>\n",
       "</div>"
      ],
      "text/plain": [
       "   assessment_year                    metric_category  \\\n",
       "0             2017  art, crafts, photography & design   \n",
       "1             2017  art, crafts, photography & design   \n",
       "2             2017  art, crafts, photography & design   \n",
       "3             2017  art, crafts, photography & design   \n",
       "4             2017    comics, publishing & journalism   \n",
       "5             2017    comics, publishing & journalism   \n",
       "6             2017                    dance & theater   \n",
       "7             2017                               food   \n",
       "8             2017                               food   \n",
       "9             2017                               food   \n",
       "10            2017                 games & technology   \n",
       "11            2017                 games & technology   \n",
       "12            2017                 games & technology   \n",
       "13            2017                 games & technology   \n",
       "14            2017                 games & technology   \n",
       "15            2017                music, film & video   \n",
       "16            2017                music, film & video   \n",
       "17            2017                music, film & video   \n",
       "18            2017                music, film & video   \n",
       "19            2018  art, crafts, photography & design   \n",
       "20            2018  art, crafts, photography & design   \n",
       "21            2018  art, crafts, photography & design   \n",
       "22            2018  art, crafts, photography & design   \n",
       "23            2018    comics, publishing & journalism   \n",
       "24            2018    comics, publishing & journalism   \n",
       "25            2018    comics, publishing & journalism   \n",
       "26            2018                    dance & theater   \n",
       "27            2018                    dance & theater   \n",
       "28            2018                               food   \n",
       "29            2018                               food   \n",
       "30            2018                               food   \n",
       "31            2018                 games & technology   \n",
       "32            2018                 games & technology   \n",
       "33            2018                 games & technology   \n",
       "34            2018                 games & technology   \n",
       "35            2018                music, film & video   \n",
       "36            2018                music, film & video   \n",
       "37            2018                music, film & video   \n",
       "\n",
       "                          pledge_category  total_successful_campaigns  \n",
       "0                  100 Thousand and under                        1319  \n",
       "1         Between 1 Million and 5 Million                           2  \n",
       "2   Between 100 Thousand and 500 Thousand                          11  \n",
       "3      Between 500 Thousand and 1 Million                           3  \n",
       "4                  100 Thousand and under                        1914  \n",
       "5   Between 100 Thousand and 500 Thousand                          22  \n",
       "6                  100 Thousand and under                         468  \n",
       "7                  100 Thousand and under                         620  \n",
       "8         Between 1 Million and 5 Million                           1  \n",
       "9   Between 100 Thousand and 500 Thousand                           6  \n",
       "10                 100 Thousand and under                         983  \n",
       "11                     5 Million and over                           1  \n",
       "12        Between 1 Million and 5 Million                          25  \n",
       "13  Between 100 Thousand and 500 Thousand                         183  \n",
       "14     Between 500 Thousand and 1 Million                          27  \n",
       "15                 100 Thousand and under                        2370  \n",
       "16        Between 1 Million and 5 Million                           1  \n",
       "17  Between 100 Thousand and 500 Thousand                          29  \n",
       "18     Between 500 Thousand and 1 Million                           1  \n",
       "19                 100 Thousand and under                        2062  \n",
       "20        Between 1 Million and 5 Million                          12  \n",
       "21  Between 100 Thousand and 500 Thousand                         104  \n",
       "22     Between 500 Thousand and 1 Million                          22  \n",
       "23                 100 Thousand and under                        2334  \n",
       "24  Between 100 Thousand and 500 Thousand                          27  \n",
       "25     Between 500 Thousand and 1 Million                           2  \n",
       "26                 100 Thousand and under                         448  \n",
       "27  Between 100 Thousand and 500 Thousand                           3  \n",
       "28                 100 Thousand and under                         564  \n",
       "29  Between 100 Thousand and 500 Thousand                           9  \n",
       "30     Between 500 Thousand and 1 Million                           2  \n",
       "31                 100 Thousand and under                        1445  \n",
       "32        Between 1 Million and 5 Million                          27  \n",
       "33  Between 100 Thousand and 500 Thousand                         229  \n",
       "34     Between 500 Thousand and 1 Million                          34  \n",
       "35                 100 Thousand and under                        2504  \n",
       "36  Between 100 Thousand and 500 Thousand                          40  \n",
       "37     Between 500 Thousand and 1 Million                           2  "
      ]
     },
     "execution_count": 61,
     "metadata": {},
     "output_type": "execute_result"
    }
   ],
   "source": [
    "successful_campaigns_df = spark.sql(f\"\"\"\n",
    "    SELECT assessment_year,\n",
    "           metric_category,\n",
    "           pledge_category,\n",
    "           count(id) total_successful_campaigns\n",
    "    FROM STANDARDISED_CAMPAIGNS\n",
    "    GROUP BY assessment_year,\n",
    "            metric_category,\n",
    "            pledge_category\n",
    "    ORDER BY assessment_year,\n",
    "            metric_category,\n",
    "            pledge_category\n",
    "    \"\"\")\n",
    "successful_campaigns_df.createOrReplaceTempView(\"s_campaigns\")\n",
    "successful_campaigns_df.toPandas()"
   ]
  },
  {
   "cell_type": "markdown",
   "id": "aa8dc75e-f61a-4c42-a949-1b88e3429f34",
   "metadata": {},
   "source": [
    "## Unit tests"
   ]
  },
  {
   "cell_type": "code",
   "execution_count": 62,
   "id": "48dd6f89-406d-4a1d-8923-b05429eff426",
   "metadata": {
    "tags": []
   },
   "outputs": [],
   "source": [
    "sc_test_df=SparkDFDataset(successful_campaigns_df)"
   ]
  },
  {
   "cell_type": "code",
   "execution_count": 63,
   "id": "edc4a88f-660b-4877-9c5f-fd1005527dc4",
   "metadata": {
    "tags": []
   },
   "outputs": [
    {
     "name": "stdout",
     "output_type": "stream",
     "text": [
      "metric_category column is unique for each assessment year: PASSED\n"
     ]
    }
   ],
   "source": [
    "test_result = sc_test_df.expect_compound_columns_to_be_unique([\"assessment_year\",\"metric_category\",\"pledge_category\"])\n",
    "print(f\"\"\"metric_category column is unique for each assessment year: {'PASSED' if test_result.success else 'FAILED'}\"\"\")"
   ]
  },
  {
   "cell_type": "code",
   "execution_count": 64,
   "id": "900eb770-3849-437b-8655-9bb439055f0f",
   "metadata": {
    "tags": []
   },
   "outputs": [
    {
     "name": "stdout",
     "output_type": "stream",
     "text": [
      "Total sum of campaigns in metrics dataset (17856) is equal to total rows in standardised dataset (17856): PASSED\n"
     ]
    }
   ],
   "source": [
    "standardised_total_rows = std_test_df.get_row_count()\n",
    "test_result = sc_test_df.expect_column_sum_to_be_between('total_successful_campaigns', \n",
    "                                                                              standardised_total_rows, standardised_total_rows)\n",
    "print(f\"\"\"Total sum of campaigns in metrics dataset ({test_result.result['observed_value']}) \\\n",
    "is equal to total rows in standardised dataset ({standardised_total_rows}): {'PASSED' if test_result.result['observed_value'] ==  standardised_total_rows else 'FAILED'}\"\"\")\n"
   ]
  },
  {
   "cell_type": "markdown",
   "id": "6957e870-c142-48e0-87d0-a9023dbec3d6",
   "metadata": {},
   "source": [
    "## Integration tests"
   ]
  },
  {
   "cell_type": "code",
   "execution_count": 65,
   "id": "5c25eeb2-f2cc-44af-a32b-e6796c0ce0cb",
   "metadata": {
    "tags": []
   },
   "outputs": [
    {
     "name": "stdout",
     "output_type": "stream",
     "text": [
      "1. Raw dataset validations: False; 47.368421052631575 successful\n",
      "2. Filtered dataset validations: True; 100.0 successful\n",
      "3. Standardised dataset validations: True; 100.0 successful\n",
      "4. Metrics dataset validations: True; 100.0 successful\n"
     ]
    }
   ],
   "source": [
    "raw_test_df_validation = raw_test_df.validate()\n",
    "print(f\"\"\"1. Raw dataset validations: {raw_test_df_validation.success}; {raw_test_df_validation.statistics['success_percent']} successful\"\"\")\n",
    "filtered_test_df_validation = filtered_test_df.validate()\n",
    "print(f\"\"\"2. Filtered dataset validations: {filtered_test_df_validation.success}; {filtered_test_df_validation.statistics['success_percent']} successful\"\"\")\n",
    "standardised_test_df_validation = std_test_df.validate()\n",
    "print(f\"\"\"3. Standardised dataset validations: {standardised_test_df_validation.success}; {standardised_test_df_validation.statistics['success_percent']} successful\"\"\")\n",
    "successful_campaigns_df_test_df_validation = sc_test_df.validate()\n",
    "print(f\"\"\"4. Metrics dataset validations: {successful_campaigns_df_test_df_validation.success}; {successful_campaigns_df_test_df_validation.statistics['success_percent']} successful\"\"\")\n"
   ]
  },
  {
   "cell_type": "markdown",
   "id": "cc1b8dff-9fec-4489-8270-9e4e17887dea",
   "metadata": {},
   "source": [
    "# custom unit tests"
   ]
  },
  {
   "cell_type": "code",
   "execution_count": 66,
   "id": "2943d3d1-dcf8-4b65-ac86-4df9cdd0ba84",
   "metadata": {
    "tags": []
   },
   "outputs": [],
   "source": [
    "from great_expectations.dataset import MetaSparkDFDataset\n",
    "\n",
    "from datetime import datetime, timedelta\n",
    "from dateutil.parser import parse"
   ]
  },
  {
   "cell_type": "code",
   "execution_count": 67,
   "id": "300033c8-f592-42d6-9a08-a94bfad77abd",
   "metadata": {
    "tags": []
   },
   "outputs": [],
   "source": [
    "class CustomSparkDFDataset(SparkDFDataset):\n",
    "    _data_asset_type = \"CustomSparkDFDataset\"\n",
    "    \n",
    "    @MetaSparkDFDataset.column_aggregate_expectation\n",
    "    def expect_column_max_to_be_less_than(\n",
    "        self,\n",
    "        column,\n",
    "        value,\n",
    "        strict=False,\n",
    "        parse_strings_as_datetimes=False,\n",
    "        output_strftime_format=None,\n",
    "        result_format=None,\n",
    "        include_config=True,\n",
    "        catch_exceptions=None,\n",
    "        meta=None,\n",
    "    ):\n",
    "        if parse_strings_as_datetimes:\n",
    "            if value:\n",
    "                value = parse(value)\n",
    "\n",
    "        column_max = self.get_column_max(column, parse_strings_as_datetimes)       \n",
    "        if isinstance(column_max, datetime):\n",
    "            try:\n",
    "                value = parse(value)\n",
    "            except (ValueError, TypeError) as e:\n",
    "                pass\n",
    "\n",
    "        success = column_max < value if strict else column_max <= value\n",
    "        \n",
    "        if parse_strings_as_datetimes:\n",
    "            if output_strftime_format:\n",
    "                column_max = datetime.strftime(column_max, output_strftime_format)\n",
    "            else:\n",
    "                column_max = str(column_max)\n",
    "\n",
    "        return {\"success\": success, \"result\": {\"observed_value\": column_max}}  \n",
    "    \n",
    "    @MetaSparkDFDataset.column_aggregate_expectation\n",
    "    def expect_column_min_to_be_more_than(\n",
    "        self,\n",
    "        column,\n",
    "        value,\n",
    "        strict=False,\n",
    "        parse_strings_as_datetimes=False,\n",
    "        output_strftime_format=None,\n",
    "        result_format=None,\n",
    "        include_config=True,\n",
    "        catch_exceptions=None,\n",
    "        meta=None,\n",
    "    ):\n",
    "        if parse_strings_as_datetimes:\n",
    "            if value:\n",
    "                value = parse(value)\n",
    "\n",
    "        column_min = self.get_column_min(column, parse_strings_as_datetimes)       \n",
    "        if isinstance(column_min, datetime):\n",
    "            try:\n",
    "                value = parse(value)\n",
    "            except (ValueError, TypeError) as e:\n",
    "                pass\n",
    "        \n",
    "        success = column_min > value if strict else column_min >= value\n",
    "        \n",
    "        if parse_strings_as_datetimes:\n",
    "            if output_strftime_format:\n",
    "                column_min = datetime.strftime(column_min, output_strftime_format)\n",
    "            else:\n",
    "                column_min = str(column_min)\n",
    "        return {\"success\": success, \"result\": {\"observed_value\": column_min}}      \n"
   ]
  },
  {
   "cell_type": "code",
   "execution_count": 69,
   "id": "29634a19-6b07-4882-9799-53e5f21fb28e",
   "metadata": {
    "tags": []
   },
   "outputs": [
    {
     "name": "stdout",
     "output_type": "stream",
     "text": [
      "+---------------+---------------+-------------+\n",
      "|assessment_year|period_start_dt|period_end_dt|\n",
      "+---------------+---------------+-------------+\n",
      "|           2017|     2016-07-01|   2017-06-30|\n",
      "|           2018|     2017-07-01|   2018-06-30|\n",
      "+---------------+---------------+-------------+\n",
      "\n"
     ]
    }
   ],
   "source": [
    "ay_df.show()"
   ]
  },
  {
   "cell_type": "code",
   "execution_count": 71,
   "id": "6bd5f2c2-341b-4978-89d6-7b89bb1adf35",
   "metadata": {
    "tags": []
   },
   "outputs": [
    {
     "data": {
      "text/plain": [
       "{'2017': <__main__.CustomSparkDFDataset at 0x7efc4a58a2d0>,\n",
       " '2018': <__main__.CustomSparkDFDataset at 0x7efc4aced850>}"
      ]
     },
     "execution_count": 71,
     "metadata": {},
     "output_type": "execute_result"
    }
   ],
   "source": [
    "ge_dataset_by_year = {}\n",
    "for yr in assessment_year:\n",
    "    ge_dataset_by_year[yr] = CustomSparkDFDataset(filtered_df.where(f\"assessment_year = {yr}\"))\n",
    "ge_dataset_by_year "
   ]
  },
  {
   "cell_type": "code",
   "execution_count": 82,
   "id": "9e5bb53d-61c8-483a-abb7-417a72939c3c",
   "metadata": {
    "tags": []
   },
   "outputs": [],
   "source": [
    "def get_period_end_dt(yr):\n",
    "    year_filter = ay_df[\"assessment_year\"]==yr\n",
    "    end_dt = ay_df.loc[year_filter].period_end_dt.item()\n",
    "    return datetime.strftime(datetime.strptime(end_dt, \"%Y-%m-%d\") + timedelta(days=1), \"%Y-%m-%d\")"
   ]
  },
  {
   "cell_type": "code",
   "execution_count": 84,
   "id": "da79d9b7-fa68-4a4a-b170-ce81c60c6d86",
   "metadata": {
    "tags": []
   },
   "outputs": [],
   "source": [
    "for yr in assessment_year:\n",
    "    period_end_dt = get_period_end_dt(yr)   \n",
    "    test_result = ge_dataset_by_year[yr]\\\n",
    "                    .expect_column_max_to_be_less_than(\"launched_at\", \n",
    "                                                       period_end_dt, \n",
    "                                                       parse_strings_as_datetimes=True, \n",
    "                                                       strict=True)\n",
    "    print(f\"\"\"AY {yr} latest launched_at {test_result.result['observed_value']}\"\"\", \n",
    "          f\"\"\"< period_end_dt {period_end_dt}: {'PASSED' if test_result.success else 'FAILED'}\"\"\")\n"
   ]
  },
  {
   "cell_type": "code",
   "execution_count": 85,
   "id": "5f6d285c-5b49-4c02-841c-4315cad8b4d9",
   "metadata": {
    "tags": []
   },
   "outputs": [],
   "source": [
    "def get_period_start_dt(yr):\n",
    "    year_filter = ay_df[\"assessment_year\"]==yr\n",
    "    return ay_df.loc[year_filter].period_start_dt.item()"
   ]
  },
  {
   "cell_type": "code",
   "execution_count": 86,
   "id": "bd14f619-97e2-45c6-83c5-c03a0886974c",
   "metadata": {
    "tags": []
   },
   "outputs": [],
   "source": [
    "for yr in ASSESSMENT_YEAR:\n",
    "    period_start_dt = get_period_start_dt(yr)    \n",
    "    test_result = ge_dataset_by_year[yr]\\\n",
    "                    .expect_column_min_to_be_more_than(\"deadline\", \n",
    "                                                       period_start_dt, \n",
    "                                                       parse_strings_as_datetimes=True)\n",
    "    print(f\"\"\"AY {yr} earliest deadline {test_result.result['observed_value']}\"\"\", \n",
    "          f\"\"\">= period_start_dt {period_start_dt}: {'PASSED' if test_result.success else 'FAILED'}\"\"\")   "
   ]
  },
  {
   "cell_type": "code",
   "execution_count": null,
   "id": "5fe9c89b-8f88-4bfe-a303-914d05ac1f51",
   "metadata": {},
   "outputs": [],
   "source": [
    "for yr, yearly_df in ge_dataset_by_year.items():\n",
    "    yearly_df_validation = yearly_df.validate()\n",
    "    print(f\"\"\"Filtered dataset for year {yr} validations: {yearly_df_validation.success}; {yearly_df_validation.statistics['success_percent']} successful\"\"\")\n"
   ]
  }
 ],
 "metadata": {
  "kernelspec": {
   "display_name": "Python 3 (ipykernel)",
   "language": "python",
   "name": "python3"
  },
  "language_info": {
   "codemirror_mode": {
    "name": "ipython",
    "version": 3
   },
   "file_extension": ".py",
   "mimetype": "text/x-python",
   "name": "python",
   "nbconvert_exporter": "python",
   "pygments_lexer": "ipython3",
   "version": "3.11.2"
  }
 },
 "nbformat": 4,
 "nbformat_minor": 5
}
